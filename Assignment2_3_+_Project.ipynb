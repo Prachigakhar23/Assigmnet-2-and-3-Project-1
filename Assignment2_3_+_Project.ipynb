{
  "nbformat": 4,
  "nbformat_minor": 0,
  "metadata": {
    "colab": {
      "name": "Assignment2/3 + Project.ipynb",
      "provenance": [],
      "collapsed_sections": []
    },
    "kernelspec": {
      "name": "python3",
      "display_name": "Python 3"
    },
    "language_info": {
      "name": "python"
    }
  },
  "cells": [
    {
      "cell_type": "code",
      "metadata": {
        "colab": {
          "base_uri": "https://localhost:8080/"
        },
        "id": "YuogmVwocLDk",
        "outputId": "a8e6b1e3-89c8-4e31-eb51-aa797f1bdc97"
      },
      "source": [
        "li=[1,2,3,4,5]\n",
        "print(li)\n",
        "li.remove(3)\n",
        "print(li)\n",
        "li.remove(1)\n",
        "print(li)\n",
        "li.remove(2)\n",
        "print(li)\n",
        "li.remove(4)\n",
        "print(li)\n",
        "li.remove(5)\n",
        "print(li)"
      ],
      "execution_count": null,
      "outputs": [
        {
          "output_type": "stream",
          "text": [
            "[1, 2, 3, 4, 5]\n",
            "[1, 2, 4, 5]\n",
            "[2, 4, 5]\n",
            "[4, 5]\n",
            "[5]\n",
            "[]\n"
          ],
          "name": "stdout"
        }
      ]
    },
    {
      "cell_type": "code",
      "metadata": {
        "colab": {
          "base_uri": "https://localhost:8080/"
        },
        "id": "MxHgwLzBTsf7",
        "outputId": "fe98b7a6-c795-4ba9-cc1c-aa67a73200af"
      },
      "source": [
        "#OTP Project\n",
        "import random as r\n",
        "import string\n",
        "length = 5\n",
        "otp = ''\n",
        "characters = string.ascii_letters + string.digits\n",
        "print(characters)\n",
        "\n",
        "for i in range(length):\n",
        "  otp = otp + r.choice(characters)\n",
        "\n",
        "print(\"OTP:\", otp)\n"
      ],
      "execution_count": 11,
      "outputs": [
        {
          "output_type": "stream",
          "text": [
            "abcdefghijklmnopqrstuvwxyzABCDEFGHIJKLMNOPQRSTUVWXYZ0123456789\n",
            "OTP: sLvfz\n"
          ],
          "name": "stdout"
        }
      ]
    },
    {
      "cell_type": "code",
      "metadata": {
        "colab": {
          "base_uri": "https://localhost:8080/"
        },
        "id": "i4jnXO8qckSF",
        "outputId": "06571d19-285e-46f2-8636-9e209310254b"
      },
      "source": [
        "#assignmet3\n",
        "import itertools\n",
        "import string\n",
        "  \n",
        "alphabet = set(string.ascii_lowercase)\n",
        "def ispangram(str):\n",
        "     return sum(1 for i in set(str) if 96 < ord(i) <= 122) == 26\n",
        "      \n",
        "\n",
        "string = 'the quick brown fox jumps over the lazy dog'\n",
        "if(ispangram(string) == True):\n",
        "    print(\"Yes\")\n",
        "else:\n",
        "    print(\"No\")\n"
      ],
      "execution_count": 18,
      "outputs": [
        {
          "output_type": "stream",
          "text": [
            "Yes\n"
          ],
          "name": "stdout"
        }
      ]
    }
  ]
}